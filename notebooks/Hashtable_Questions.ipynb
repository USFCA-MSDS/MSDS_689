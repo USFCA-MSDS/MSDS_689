{
 "cells": [
  {
   "cell_type": "markdown",
   "id": "9c3af9e5",
   "metadata": {},
   "source": [
    "# Hashtable Interview Questions\n",
    "\n",
    "# Question 1: Two Sum\n",
    "\n",
    "Given an array of integers nums and an integer target, return indices of the two numbers such that they add up to the target.\n",
    "\n"
   ]
  },
  {
   "cell_type": "code",
   "execution_count": 3,
   "id": "e71cedc4",
   "metadata": {},
   "outputs": [],
   "source": [
    "# Example:\n",
    "\n",
    "\n",
    "nums = [2, 7, 11, 15]\n",
    "target = 9\n",
    "# Output: [0, 1]  # because nums[0] + nums[1] == 9"
   ]
  },
  {
   "cell_type": "code",
   "execution_count": 1,
   "id": "3c7f6190",
   "metadata": {},
   "outputs": [],
   "source": [
    "def two_sum(nums, target):\n",
    "    num_indices = {}\n",
    "    for i, num in enumerate(nums):\n",
    "        complement = target - num\n",
    "        if complement in num_indices:\n",
    "            return [num_indices[complement], i]\n",
    "        num_indices[num] = i\n",
    "    return None  "
   ]
  },
  {
   "cell_type": "code",
   "execution_count": 4,
   "id": "b8578664",
   "metadata": {},
   "outputs": [
    {
     "data": {
      "text/plain": [
       "[0, 1]"
      ]
     },
     "execution_count": 4,
     "metadata": {},
     "output_type": "execute_result"
    }
   ],
   "source": [
    "two_sum([2, 7, 11, 15],9)\n",
    "\n"
   ]
  },
  {
   "cell_type": "markdown",
   "id": "709a3cec",
   "metadata": {},
   "source": [
    "### Question : what is the complexity of the above program?"
   ]
  },
  {
   "cell_type": "markdown",
   "id": "07b957ba",
   "metadata": {},
   "source": [
    "# Question 2: Group Anagrams\n",
    "\n",
    "Given an array of strings, group anagrams together. An Anagram is a word or phrase formed by rearranging the letters of a different word or phrase.\n",
    "\n"
   ]
  },
  {
   "cell_type": "code",
   "execution_count": 8,
   "id": "81dfed35",
   "metadata": {},
   "outputs": [],
   "source": [
    "#Example:\n",
    "\n",
    "strs = [\"eat\", \"tea\", \"tan\", \"ate\", \"nat\", \"bat\"]\n",
    "# Output: [[\"eat\",\"tea\",\"ate\"], [\"tan\",\"nat\"], [\"bat\"]]"
   ]
  },
  {
   "cell_type": "code",
   "execution_count": 9,
   "id": "4da14ce8",
   "metadata": {},
   "outputs": [],
   "source": [
    "def group_anagrams(strs):\n",
    "    anagrams = {}\n",
    "    for s in strs:\n",
    "        sorted_str = ''.join(sorted(s))\n",
    "        if sorted_str in anagrams:\n",
    "            anagrams[sorted_str].append(s)\n",
    "        else:\n",
    "            anagrams[sorted_str] = [s]\n",
    "    return list(anagrams.values())"
   ]
  },
  {
   "cell_type": "code",
   "execution_count": null,
   "id": "a7fc3d20",
   "metadata": {},
   "outputs": [],
   "source": []
  },
  {
   "cell_type": "code",
   "execution_count": 10,
   "id": "3a07149f",
   "metadata": {},
   "outputs": [
    {
     "data": {
      "text/plain": [
       "[['eat', 'tea', 'ate'], ['tan', 'nat'], ['bat']]"
      ]
     },
     "execution_count": 10,
     "metadata": {},
     "output_type": "execute_result"
    }
   ],
   "source": [
    "group_anagrams([\"eat\", \"tea\", \"tan\", \"ate\", \"nat\", \"bat\"])"
   ]
  },
  {
   "cell_type": "markdown",
   "id": "63ed460d",
   "metadata": {},
   "source": [
    "# Question 3: First Unique Character in a String\n",
    "\n",
    "Given a string s, find the first non-repeating character and return its index. If it does not exist, return -1.\n",
    "\n"
   ]
  },
  {
   "cell_type": "code",
   "execution_count": 19,
   "id": "0835902b",
   "metadata": {},
   "outputs": [],
   "source": [
    "s = \"hhkjhiutn\"\n",
    "# Output: 2  # 'k' is the first non-repeating character"
   ]
  },
  {
   "cell_type": "code",
   "execution_count": 12,
   "id": "bb68c469",
   "metadata": {},
   "outputs": [],
   "source": [
    "def first_uniq_char(s):\n",
    "    char_count = {}\n",
    "    for char in s:\n",
    "        if char in char_count:   \n",
    "            char_count[char] += 1\n",
    "        else:\n",
    "            char_count[char] = 1\n",
    "            \n",
    "    for i, char in enumerate(s):\n",
    "        if char_count[char] == 1:\n",
    "            return i\n",
    "    return -1"
   ]
  },
  {
   "cell_type": "code",
   "execution_count": 20,
   "id": "38001307",
   "metadata": {},
   "outputs": [
    {
     "data": {
      "text/plain": [
       "2"
      ]
     },
     "execution_count": 20,
     "metadata": {},
     "output_type": "execute_result"
    }
   ],
   "source": [
    "first_uniq_char(\"hhkjhiutn\")"
   ]
  },
  {
   "cell_type": "markdown",
   "id": "99064136",
   "metadata": {},
   "source": [
    "Question, does the above code take into consideration cases when some of the letters are upper case?\n",
    "\n"
   ]
  },
  {
   "cell_type": "code",
   "execution_count": null,
   "id": "4b4183d7",
   "metadata": {},
   "outputs": [],
   "source": []
  },
  {
   "cell_type": "markdown",
   "id": "9ecb5755",
   "metadata": {},
   "source": [
    "# Question 4: Is anagram ?\n",
    "\n",
    "\n",
    "Anagrams are words or phrases formed by rearranging the letters of another word or phrase, using all the original letters exactly once. In other words, two words are considered anagrams if they have the same characters with the same frequency but in a different order.\n",
    "\n",
    "For example:\n",
    "\n",
    "The words \"listen\" and \"silent\" are anagrams because you can rearrange the letters in one to form the other."
   ]
  },
  {
   "cell_type": "code",
   "execution_count": 27,
   "id": "a0b7024e",
   "metadata": {},
   "outputs": [],
   "source": [
    "def is_anagram(s, t):\n",
    "    if len(s) != len(t):\n",
    "        return False\n",
    "\n",
    "    char_count = {}\n",
    "    for char in s:\n",
    "        if char in char_count:   \n",
    "            char_count[char] += 1\n",
    "        else:\n",
    "            char_count[char] = 1\n",
    "\n",
    "    for char in t:\n",
    "        if char not in char_count or char_count[char] == 0:\n",
    "            return False\n",
    "        char_count[char] -= 1\n",
    "\n",
    "    return True"
   ]
  },
  {
   "cell_type": "code",
   "execution_count": 28,
   "id": "35abd813",
   "metadata": {},
   "outputs": [
    {
     "data": {
      "text/plain": [
       "True"
      ]
     },
     "execution_count": 28,
     "metadata": {},
     "output_type": "execute_result"
    }
   ],
   "source": [
    "is_anagram(\"listen\",\"silent\")"
   ]
  },
  {
   "cell_type": "code",
   "execution_count": 29,
   "id": "ff9e8b50",
   "metadata": {},
   "outputs": [
    {
     "data": {
      "text/plain": [
       "False"
      ]
     },
     "execution_count": 29,
     "metadata": {},
     "output_type": "execute_result"
    }
   ],
   "source": [
    "is_anagram(\"hello\",\"world\")"
   ]
  },
  {
   "cell_type": "code",
   "execution_count": null,
   "id": "78bea5ca",
   "metadata": {},
   "outputs": [],
   "source": []
  }
 ],
 "metadata": {
  "kernelspec": {
   "display_name": "Python 3 (ipykernel)",
   "language": "python",
   "name": "python3"
  },
  "language_info": {
   "codemirror_mode": {
    "name": "ipython",
    "version": 3
   },
   "file_extension": ".py",
   "mimetype": "text/x-python",
   "name": "python",
   "nbconvert_exporter": "python",
   "pygments_lexer": "ipython3",
   "version": "3.9.13"
  }
 },
 "nbformat": 4,
 "nbformat_minor": 5
}
