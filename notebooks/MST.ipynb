{
 "cells": [
  {
   "cell_type": "code",
   "execution_count": 41,
   "id": "e8dddfc3-3088-4076-81e8-e7d877b63233",
   "metadata": {},
   "outputs": [],
   "source": [
    "\n",
    "class UnionFind:\n",
    "    def __init__(self):\n",
    "        '''\\\n",
    "Create an empty union find data structure.'''\n",
    "        self.num_weights = {}\n",
    "        self.parent_pointers = {}\n",
    "        self.num_to_objects = {}\n",
    "        self.objects_to_num = {}\n",
    "        self.__repr__ = self.__str__\n",
    "    def insert_objects(self, objects):\n",
    "        '''\\\n",
    "Insert a sequence of objects into the structure.  All must be Python hashable.'''\n",
    "        for object in objects:\n",
    "            self.find(object);\n",
    "    def find(self, object):\n",
    "        '''\\\n",
    "Find the root of the set that an object is in.\n",
    "If the object was not known, will make it known, and it becomes its own set.\n",
    "Object must be Python hashable.'''\n",
    "        if not object in self.objects_to_num:\n",
    "            obj_num = len(self.objects_to_num)\n",
    "            self.num_weights[obj_num] = 1\n",
    "            self.objects_to_num[object] = obj_num\n",
    "            self.num_to_objects[obj_num] = object\n",
    "            self.parent_pointers[obj_num] = obj_num\n",
    "            return object\n",
    "        stk = [self.objects_to_num[object]]\n",
    "        par = self.parent_pointers[stk[-1]]\n",
    "        while par != stk[-1]:\n",
    "            stk.append(par)\n",
    "            par = self.parent_pointers[par]\n",
    "        for i in stk:\n",
    "            self.parent_pointers[i] = par\n",
    "        return self.num_to_objects[par]\n",
    "    def union(self, object1, object2):\n",
    "        '''\\\n",
    "Combine the sets that contain the two objects given.\n",
    "Both objects must be Python hashable.\n",
    "If either or both objects are unknown, will make them known, and combine them.'''\n",
    "        o1p = self.find(object1)\n",
    "        o2p = self.find(object2)\n",
    "        if o1p != o2p:\n",
    "            on1 = self.objects_to_num[o1p]\n",
    "            on2 = self.objects_to_num[o2p]\n",
    "            w1 = self.num_weights[on1]\n",
    "            w2 = self.num_weights[on2]\n",
    "            if w1 < w2:\n",
    "                o1p, o2p, on1, on2, w1, w2 = o2p, o1p, on2, on1, w2, w1\n",
    "            self.num_weights[on1] = w1+w2\n",
    "            del self.num_weights[on2]\n",
    "            self.parent_pointers[on2] = on1"
   ]
  },
  {
   "cell_type": "code",
   "execution_count": 42,
   "id": "2df915c3-40cc-4ae0-ac4d-f79decd92574",
   "metadata": {},
   "outputs": [
    {
     "name": "stdout",
     "output_type": "stream",
     "text": [
      "Before union:\n",
      "{0: 0, 1: 1, 2: 2, 3: 3}\n",
      "After union:\n",
      "{0: 0, 1: 0, 2: 2, 3: 3}\n"
     ]
    }
   ],
   "source": [
    "uf = UnionFind()\n",
    "uf.insert_objects(['A', 'B', 'C', 'D'])\n",
    "print(\"Before union:\")\n",
    "print(uf.parent_pointers)  # Initially, each element is its own parent\n",
    "uf.union('A', 'B')  # Merge sets containing 'A' and 'B'\n",
    "print(\"After union:\")\n",
    "print(uf.parent_pointers)  # 'A' and 'B' should now have the same parent\n"
   ]
  },
  {
   "cell_type": "code",
   "execution_count": 43,
   "id": "ecbb387a-05a7-4fa1-8435-bbb965db02fd",
   "metadata": {},
   "outputs": [
    {
     "name": "stdout",
     "output_type": "stream",
     "text": [
      "number of connnected components in the structure after BEFORE a union operation 3\n",
      "number of connnected components in the structure AFTER doing a union operation 2\n",
      "the representive of Y is X\n",
      "the representive of X is X\n"
     ]
    }
   ],
   "source": [
    "uf = UnionFind()\n",
    "uf.insert_objects(['X', 'Y', 'Z'])\n",
    "\n",
    "print(\"number of connnected components in the structure after BEFORE a union operation\", len(set(uf.parent_pointers.values())))\n",
    "\n",
    "uf.union('X', 'Y')\n",
    "\n",
    "print(\"number of connnected components in the structure AFTER doing a union operation\", len(set(uf.parent_pointers.values())))\n",
    "\n",
    "print(\"the representive of Y is\", uf.find('Y'))  # Should print the root of the set containing 'Y', which is 'X'\n",
    "\n",
    "print(\"the representive of X is\", uf.find('X'))  # Should print the root of the set containing 'Y', which is 'X'\n",
    "\n",
    "\n",
    "\n",
    "# note that since X and Y are in the same set, the function find returns the same representive element."
   ]
  },
  {
   "cell_type": "code",
   "execution_count": 44,
   "id": "71497cb8-e659-4949-81b4-a3624d6f8db6",
   "metadata": {},
   "outputs": [],
   "source": [
    "def rankedges(G):\n",
    "    '''\\\n",
    "    Given a graph G, return a list of edges sorted by their weights.'''\n",
    "    lst=[]\n",
    "    for e in G.edges():\n",
    "        w = G[e[0]][e[1]]['weight']\n",
    "        lst.append((e,w))\n",
    "            \n",
    "    lst.sort(key=lambda x: x[1])    \n",
    "    return lst \n",
    "\n",
    "def spanningtree(G):\n",
    "    '''\\\n",
    "    Given a graph G, return a minimum spanning tree (as a graph) and a list of ranked edges.'''\n",
    "    \n",
    "    tree_ranked_edges=[]\n",
    "    lst=rankedges(G)\n",
    "\n",
    "    uf = UnionFind()\n",
    "\n",
    "    for node in G.nodes():\n",
    "        uf.find(node)\n",
    "        tree=nx.Graph()\n",
    "\n",
    "    for edge in lst:\n",
    "\n",
    "        if uf.find(edge[0][0])==uf.find(edge[0][1]):\n",
    "            continue\n",
    "        else:\n",
    "            tree_ranked_edges.append(edge)\n",
    "            uf.union(edge[0][0],edge[0][1])\n",
    "            tree.add_edge(edge[0][0],edge[0][1])        \n",
    "    return tree,tree_ranked_edges"
   ]
  },
  {
   "cell_type": "code",
   "execution_count": 45,
   "id": "0a8ae20d-4507-44cc-abc4-1e565d33335e",
   "metadata": {},
   "outputs": [],
   "source": [
    "G = nx.Graph()\n",
    "\n",
    "G.add_edge(0,1, weight=1.2)\n",
    "G.add_edge(1,2, weight=0.65)\n",
    "G.add_edge(2,3, weight=0.23)\n",
    "G.add_edge(3,0, weight=0.15)\n",
    "G.add_edge(0,5, weight=0.12)\n",
    "G.add_edge(5,0, weight=0.2)\n",
    "G.add_edge(0,10, weight=2.3)\n",
    "\n"
   ]
  },
  {
   "cell_type": "code",
   "execution_count": 51,
   "id": "013e8a68-8f7f-46d5-87fc-38bcb0329590",
   "metadata": {},
   "outputs": [],
   "source": [
    "tree,  = spanningtree(G)"
   ]
  },
  {
   "cell_type": "code",
   "execution_count": 60,
   "id": "2aa98593-7b89-4164-a4aa-6ad2017c43bf",
   "metadata": {},
   "outputs": [
    {
     "name": "stdout",
     "output_type": "stream",
     "text": [
      "the edges of the tree are  [(0, 3), (0, 5), (0, 10), (3, 2), (2, 1)]\n"
     ]
    }
   ],
   "source": [
    "print(\"the edges of the tree are \",tree.edges)\n",
    "\n",
    "\n",
    "#print(\"number of edges in the tree\",len(original_graph_edges))\n"
   ]
  },
  {
   "cell_type": "code",
   "execution_count": null,
   "id": "7ee934c4-62ba-4cb2-abe6-e570c10b67e1",
   "metadata": {},
   "outputs": [],
   "source": []
  }
 ],
 "metadata": {
  "kernelspec": {
   "display_name": "Python 3 (ipykernel)",
   "language": "python",
   "name": "python3"
  },
  "language_info": {
   "codemirror_mode": {
    "name": "ipython",
    "version": 3
   },
   "file_extension": ".py",
   "mimetype": "text/x-python",
   "name": "python",
   "nbconvert_exporter": "python",
   "pygments_lexer": "ipython3",
   "version": "3.9.13"
  }
 },
 "nbformat": 4,
 "nbformat_minor": 5
}
