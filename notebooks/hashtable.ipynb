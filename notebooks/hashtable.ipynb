{
 "cells": [
  {
   "cell_type": "code",
   "execution_count": 32,
   "id": "475a32b2-41e6-4fb3-8afa-9c14b32551ef",
   "metadata": {},
   "outputs": [
    {
     "name": "stdout",
     "output_type": "stream",
     "text": [
      "Hash Table Contents:\n",
      "[('age', 25)]\n",
      "[('name', 'John')]\n",
      "[('city', 'New York')]\n",
      "\n"
     ]
    }
   ],
   "source": [
    "class HashTable:\n",
    "    def __init__(self, size=10):\n",
    "        # Initialize the hash table with a specified size.\n",
    "        self.size = size\n",
    "        # Create an array to hold the buckets, each initialized as None.\n",
    "        self.table = [None] * size\n",
    "\n",
    "    def _hash_function(self, key):\n",
    "        # A simple hash function to calculate the index based on the key's hash value.\n",
    "        return hash(key) % self.size\n",
    "\n",
    "    def insert(self, key, value):\n",
    "        # Insert a key-value pair into the hash table.\n",
    "        index = self._hash_function(key)\n",
    "        # If the bucket at the calculated index is empty, create a new list.\n",
    "        if self.table[index] is None:\n",
    "            self.table[index] = [(key, value)]\n",
    "        else:\n",
    "            # If the bucket is not empty, check if the key already exists.\n",
    "            for i, (existing_key, existing_value) in enumerate(self.table[index]):\n",
    "                if existing_key == key:\n",
    "                    # If the key already exists, update the value.\n",
    "                    self.table[index][i] = (key, value)\n",
    "                    break\n",
    "            else:\n",
    "                # If the key doesn't exist in the bucket, add a new key-value pair.\n",
    "                self.table[index].append((key, value))\n",
    "\n",
    "    def get(self, key):\n",
    "        # Retrieve the value associated with a given key.\n",
    "        index = self._hash_function(key)\n",
    "        if self.table[index] is not None:\n",
    "            for existing_key, existing_value in self.table[index]:\n",
    "                if existing_key == key:\n",
    "                    # If the key is found, return the associated value.\n",
    "                    return existing_value\n",
    "        # If the key is not found, raise a KeyError.\n",
    "        raise KeyError(f\"Key '{key}' not found\")\n",
    "\n",
    "    def delete(self, key):\n",
    "        # Remove a key-value pair from the hash table.\n",
    "        index = self._hash_function(key)\n",
    "        if self.table[index] is not None:\n",
    "            for i, (existing_key, existing_value) in enumerate(self.table[index]):\n",
    "                if existing_key == key:\n",
    "                    # If the key is found, remove the key-value pair.\n",
    "                    del self.table[index][i]\n",
    "                    break\n",
    "            else:\n",
    "                # If the key is not found, raise a KeyError.\n",
    "                raise KeyError(f\"Key '{key}' not found\")\n",
    "    def display(self):\n",
    "        # Display the contents of the hash table in a readable format.\n",
    "        print(\"Hash Table Contents:\")\n",
    "        for i, entry in enumerate(self.table):\n",
    "            if entry is not None:\n",
    "                print(entry)\n",
    "        print()\n",
    "                \n",
    "\n",
    "# Example usage:\n",
    "my_dict = HashTable()\n",
    "\n",
    "# Insert key-value pairs into the hash table.\n",
    "my_dict.insert(\"name\", \"John\")\n",
    "my_dict.insert(\"age\", 25)\n",
    "my_dict.insert(\"city\", \"New York\")\n",
    "\n",
    "my_dict.display()\n"
   ]
  },
  {
   "cell_type": "code",
   "execution_count": null,
   "id": "844f7d20-2e7a-4871-99a8-9f083a465a3b",
   "metadata": {},
   "outputs": [],
   "source": []
  },
  {
   "cell_type": "code",
   "execution_count": null,
   "id": "8e7b8eff-5b13-417c-b01c-20a588c7f01d",
   "metadata": {},
   "outputs": [],
   "source": []
  }
 ],
 "metadata": {
  "kernelspec": {
   "display_name": "Python 3 (ipykernel)",
   "language": "python",
   "name": "python3"
  },
  "language_info": {
   "codemirror_mode": {
    "name": "ipython",
    "version": 3
   },
   "file_extension": ".py",
   "mimetype": "text/x-python",
   "name": "python",
   "nbconvert_exporter": "python",
   "pygments_lexer": "ipython3",
   "version": "3.9.13"
  }
 },
 "nbformat": 4,
 "nbformat_minor": 5
}
